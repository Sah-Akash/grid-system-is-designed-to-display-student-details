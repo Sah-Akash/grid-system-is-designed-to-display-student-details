{
 "cells": [
  {
   "cell_type": "markdown",
   "id": "b08b233e",
   "metadata": {},
   "source": [
    "# Data Structure"
   ]
  },
  {
   "cell_type": "code",
   "execution_count": null,
   "id": "b1f83faa",
   "metadata": {},
   "outputs": [],
   "source": [
    "students = [\n",
    "    {\"id\": 1, \"name\": \"John Doe\", \"total_marks\": 85},\n",
    "    {\"id\": 2, \"name\": \"Jane Smith\", \"total_marks\": 92},\n",
    "    {\"id\": 3, \"name\": \"Alice Johnson\", \"total_marks\": 78},\n",
    "    # Add more student data\n",
    "]\n"
   ]
  },
  {
   "cell_type": "markdown",
   "id": "b2e2ca4b",
   "metadata": {},
   "source": [
    "# Load Student Details API"
   ]
  },
  {
   "cell_type": "code",
   "execution_count": null,
   "id": "4d20bc1c",
   "metadata": {},
   "outputs": [],
   "source": [
    "from flask import Flask, request, jsonify\n",
    "\n",
    "app = Flask(__name__)\n",
    "\n",
    "@app.route('/students', methods=['GET'])\n",
    "def get_students():\n",
    "    page = int(request.args.get('page', 1))\n",
    "    page_size = int(request.args.get('page_size', 10))\n",
    "    \n",
    "    start_index = (page - 1) * page_size\n",
    "    end_index = start_index + page_size\n",
    "    \n",
    "    paginated_students = students[start_index:end_index]\n",
    "    \n",
    "    return jsonify(paginated_students)\n",
    "\n",
    "if __name__ == '__main__':\n",
    "    app.run()\n"
   ]
  },
  {
   "cell_type": "markdown",
   "id": "3c6461ac",
   "metadata": {},
   "source": [
    "\n",
    "# Server-side Filtering API"
   ]
  },
  {
   "cell_type": "code",
   "execution_count": null,
   "id": "8ef8fcbe",
   "metadata": {},
   "outputs": [],
   "source": [
    "@app.route('/students/filter', methods=['GET'])\n",
    "def filter_students():\n",
    "    criteria = request.args.get('criteria', '')\n",
    "    \n",
    "    filtered_students = [student for student in students if criteria.lower() in student['name'].lower()]\n",
    "    \n",
    "    return jsonify(filtered_students)\n"
   ]
  },
  {
   "cell_type": "markdown",
   "id": "5dd7c2aa",
   "metadata": {},
   "source": [
    "# Database Integration"
   ]
  },
  {
   "cell_type": "code",
   "execution_count": null,
   "id": "2e4c8fc7",
   "metadata": {},
   "outputs": [],
   "source": [
    "from flask_sqlalchemy import SQLAlchemy\n",
    "\n",
    "app = Flask(__name__)\n",
    "app.config['SQLALCHEMY_DATABASE_URI'] = 'sqlite:///students.db'\n",
    "db = SQLAlchemy(app)\n",
    "\n",
    "class Student(db.Model):\n",
    "    id = db.Column(db.Integer, primary_key=True)\n",
    "    name = db.Column(db.String(100))\n",
    "    total_marks = db.Column(db.Integer)\n",
    "\n",
    "# Update the get_students() endpoint to fetch data from the database\n",
    "@app.route('/students', methods=['GET'])\n",
    "def get_students():\n",
    "    page = int(request.args.get('page', 1))\n",
    "    page_size = int(request.args.get('page_size', 10))\n",
    "    \n",
    "    start_index = (page - 1) * page_size\n",
    "    end_index = start_index + page_size\n",
    "    \n",
    "    paginated_students = Student.query.offset(start_index).limit(page_size).all()\n",
    "    \n",
    "    return jsonify([student.__dict__ for student in paginated_students])\n",
    "\n",
    "if __name__ == '__main__':\n",
    "    app.run()\n"
   ]
  },
  {
   "cell_type": "code",
   "execution_count": null,
   "id": "c5b58fc1",
   "metadata": {},
   "outputs": [],
   "source": []
  }
 ],
 "metadata": {
  "kernelspec": {
   "display_name": "Python 3 (ipykernel)",
   "language": "python",
   "name": "python3"
  },
  "language_info": {
   "codemirror_mode": {
    "name": "ipython",
    "version": 3
   },
   "file_extension": ".py",
   "mimetype": "text/x-python",
   "name": "python",
   "nbconvert_exporter": "python",
   "pygments_lexer": "ipython3",
   "version": "3.11.0"
  }
 },
 "nbformat": 4,
 "nbformat_minor": 5
}
